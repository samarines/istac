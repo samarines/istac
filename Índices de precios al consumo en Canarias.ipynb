{
 "cells": [
  {
   "cell_type": "markdown",
   "metadata": {},
   "source": [
    "Los chicos del ISTAC se lo han currado y han puesto en circulación una estupenda librería para acceder a los datos públicos de ese organismo.\n",
    "\n",
    "Está muy bien documentada, en principio no he tenido problemas para cargar los datos y modificarlos.\n",
    "\n",
    "La documentación es un pelín oscura en 'get_data', pero si indagas das con la solución. "
   ]
  },
  {
   "cell_type": "code",
   "execution_count": 51,
   "metadata": {},
   "outputs": [
    {
     "data": {
      "text/plain": [
       "(('011', 'Territorio y usos del suelo'),\n",
       " ('012', 'Medio ambiente'),\n",
       " ('021', 'Población'),\n",
       " ('022', 'Movimiento natural'),\n",
       " ('023', 'Movimientos migratorios'),\n",
       " ('031', 'Calidad de vida'),\n",
       " ('033', 'Educación'),\n",
       " ('036', 'Justicia y seguridad'),\n",
       " ('041', 'Cuentas económicas'),\n",
       " ('042', 'Precios, consumo e inversión'),\n",
       " ('043', 'Empresas y centros de trabajo'),\n",
       " ('051', 'Empleo'),\n",
       " ('061', 'Agricultura, ganadería, pesca y caza'),\n",
       " ('071', 'Industria, energía y agua'),\n",
       " ('072', 'Construcción y vivienda'),\n",
       " ('080', 'SECTOR SERVICIOS'),\n",
       " ('081', 'Comercio'),\n",
       " ('082', 'Hostelería y turismo'),\n",
       " ('083', 'Transporte y comunicaciones'),\n",
       " ('084', 'Servicios financieros, monetarios y seguros'),\n",
       " ('091', 'Administración pública'))"
      ]
     },
     "execution_count": 51,
     "metadata": {},
     "output_type": "execute_result"
    }
   ],
   "source": [
    "from istacpy.indicators.lite import indicators\n",
    "import pandas as pd\n",
    "\n",
    "# ¿Qué temas existen en la base de datos?\n",
    "indicators.get_subjects()"
   ]
  },
  {
   "cell_type": "markdown",
   "metadata": {},
   "source": [
    "### Búsqueda en precios"
   ]
  },
  {
   "cell_type": "code",
   "execution_count": 52,
   "metadata": {},
   "outputs": [
    {
     "data": {
      "text/plain": [
       "(('IPC', 'Índice de precios de consumo (IPC). General'),\n",
       " ('IPC_SUBYACENTE', 'Índice de precios de consumo (IPC). Subyacente'))"
      ]
     },
     "execution_count": 52,
     "metadata": {},
     "output_type": "execute_result"
    }
   ],
   "source": [
    "indicators.get_indicators(subject_code='042')"
   ]
  },
  {
   "cell_type": "code",
   "execution_count": 53,
   "metadata": {},
   "outputs": [
    {
     "name": "stdout",
     "output_type": "stream",
     "text": [
      "· Class: istacpy.indicators.lite.indicators.Indicator\n",
      "· Indicator code: IPC\n",
      "· Title: Índice de precios de consumo (IPC). General\n",
      "· Subject: Precios, consumo e inversión\n",
      "· Description: El Índice de Precios de Consumo (IPC) tiene como objetivo medir la evolución de los precios de los bienes y servicios de consumo adquiridos por los hogares residentes en España\n",
      "· Geographical granularities: {'COUNTRIES': 'T', 'REGIONS': 'R', 'PROVINCES': 'P'}\n",
      "· Time granularities: {'MONTHLY': 'M'}\n",
      "· Measures: {'ABSOLUTE': 'A', 'ANNUAL_PERCENTAGE_RATE': 'N', 'INTERPERIOD_PERCENTAGE_RATE': 'I'}\n",
      "· Available years: 2002,2003,2004,2005,2006,2007,2008,2009,2010,2011,2012,2013,2014,2015,2016,2017,2018,2019,2020,2021,2022\n"
     ]
    }
   ],
   "source": [
    "indicator = indicators.get_indicator('IPC')\n",
    "indicator.info()"
   ]
  },
  {
   "cell_type": "markdown",
   "metadata": {},
   "source": [
    "### Indicador por provincias"
   ]
  },
  {
   "cell_type": "code",
   "execution_count": 54,
   "metadata": {},
   "outputs": [
    {
     "data": {
      "text/html": [
       "<div>\n",
       "<style scoped>\n",
       "    .dataframe tbody tr th:only-of-type {\n",
       "        vertical-align: middle;\n",
       "    }\n",
       "\n",
       "    .dataframe tbody tr th {\n",
       "        vertical-align: top;\n",
       "    }\n",
       "\n",
       "    .dataframe thead th {\n",
       "        text-align: right;\n",
       "    }\n",
       "</style>\n",
       "<table border=\"1\" class=\"dataframe\">\n",
       "  <thead>\n",
       "    <tr style=\"text-align: right;\">\n",
       "      <th></th>\n",
       "      <th>ES423</th>\n",
       "      <th>ES212</th>\n",
       "      <th>ES512</th>\n",
       "      <th>ES614</th>\n",
       "      <th>ES424</th>\n",
       "      <th>ES615</th>\n",
       "      <th>ES241</th>\n",
       "      <th>ES616</th>\n",
       "      <th>ES413</th>\n",
       "      <th>ES513</th>\n",
       "      <th>...</th>\n",
       "      <th>ES432</th>\n",
       "      <th>ES612</th>\n",
       "      <th>ES130</th>\n",
       "      <th>ES522</th>\n",
       "      <th>ES630</th>\n",
       "      <th>ES422</th>\n",
       "      <th>ES613</th>\n",
       "      <th>ES530</th>\n",
       "      <th>ES111</th>\n",
       "      <th>Las Palmas</th>\n",
       "    </tr>\n",
       "  </thead>\n",
       "  <tbody>\n",
       "    <tr>\n",
       "      <th>2002-01</th>\n",
       "      <td>70.73</td>\n",
       "      <td>69.23</td>\n",
       "      <td>67.17</td>\n",
       "      <td>70.56</td>\n",
       "      <td>70.88</td>\n",
       "      <td>70.46</td>\n",
       "      <td>69.74</td>\n",
       "      <td>70.99</td>\n",
       "      <td>68.59</td>\n",
       "      <td>67.21</td>\n",
       "      <td>...</td>\n",
       "      <td>71.48</td>\n",
       "      <td>71.73</td>\n",
       "      <td>69.50</td>\n",
       "      <td>70.44</td>\n",
       "      <td>73.04</td>\n",
       "      <td>69.79</td>\n",
       "      <td>69.62</td>\n",
       "      <td>69.74</td>\n",
       "      <td>68.55</td>\n",
       "      <td>75.58</td>\n",
       "    </tr>\n",
       "    <tr>\n",
       "      <th>2002-02</th>\n",
       "      <td>70.81</td>\n",
       "      <td>69.18</td>\n",
       "      <td>67.25</td>\n",
       "      <td>70.66</td>\n",
       "      <td>70.64</td>\n",
       "      <td>70.54</td>\n",
       "      <td>69.67</td>\n",
       "      <td>71.09</td>\n",
       "      <td>68.65</td>\n",
       "      <td>67.37</td>\n",
       "      <td>...</td>\n",
       "      <td>71.59</td>\n",
       "      <td>71.56</td>\n",
       "      <td>69.50</td>\n",
       "      <td>70.55</td>\n",
       "      <td>73.13</td>\n",
       "      <td>69.75</td>\n",
       "      <td>69.75</td>\n",
       "      <td>69.97</td>\n",
       "      <td>68.84</td>\n",
       "      <td>75.65</td>\n",
       "    </tr>\n",
       "    <tr>\n",
       "      <th>2002-03</th>\n",
       "      <td>71.34</td>\n",
       "      <td>69.60</td>\n",
       "      <td>67.75</td>\n",
       "      <td>71.19</td>\n",
       "      <td>71.22</td>\n",
       "      <td>71.35</td>\n",
       "      <td>70.18</td>\n",
       "      <td>71.68</td>\n",
       "      <td>69.14</td>\n",
       "      <td>68.38</td>\n",
       "      <td>...</td>\n",
       "      <td>72.13</td>\n",
       "      <td>72.09</td>\n",
       "      <td>70.07</td>\n",
       "      <td>70.99</td>\n",
       "      <td>73.90</td>\n",
       "      <td>70.30</td>\n",
       "      <td>70.31</td>\n",
       "      <td>70.48</td>\n",
       "      <td>69.42</td>\n",
       "      <td>76.17</td>\n",
       "    </tr>\n",
       "    <tr>\n",
       "      <th>2002-04</th>\n",
       "      <td>72.12</td>\n",
       "      <td>70.60</td>\n",
       "      <td>68.78</td>\n",
       "      <td>72.43</td>\n",
       "      <td>72.10</td>\n",
       "      <td>72.48</td>\n",
       "      <td>71.00</td>\n",
       "      <td>72.38</td>\n",
       "      <td>70.22</td>\n",
       "      <td>69.22</td>\n",
       "      <td>...</td>\n",
       "      <td>73.12</td>\n",
       "      <td>73.10</td>\n",
       "      <td>71.07</td>\n",
       "      <td>72.28</td>\n",
       "      <td>74.80</td>\n",
       "      <td>71.58</td>\n",
       "      <td>71.64</td>\n",
       "      <td>71.21</td>\n",
       "      <td>70.31</td>\n",
       "      <td>77.38</td>\n",
       "    </tr>\n",
       "    <tr>\n",
       "      <th>2002-05</th>\n",
       "      <td>72.65</td>\n",
       "      <td>70.79</td>\n",
       "      <td>68.95</td>\n",
       "      <td>72.53</td>\n",
       "      <td>72.49</td>\n",
       "      <td>72.67</td>\n",
       "      <td>71.18</td>\n",
       "      <td>73.40</td>\n",
       "      <td>70.47</td>\n",
       "      <td>69.47</td>\n",
       "      <td>...</td>\n",
       "      <td>73.30</td>\n",
       "      <td>73.39</td>\n",
       "      <td>71.20</td>\n",
       "      <td>72.73</td>\n",
       "      <td>75.30</td>\n",
       "      <td>71.70</td>\n",
       "      <td>71.78</td>\n",
       "      <td>71.45</td>\n",
       "      <td>70.62</td>\n",
       "      <td>77.62</td>\n",
       "    </tr>\n",
       "    <tr>\n",
       "      <th>...</th>\n",
       "      <td>...</td>\n",
       "      <td>...</td>\n",
       "      <td>...</td>\n",
       "      <td>...</td>\n",
       "      <td>...</td>\n",
       "      <td>...</td>\n",
       "      <td>...</td>\n",
       "      <td>...</td>\n",
       "      <td>...</td>\n",
       "      <td>...</td>\n",
       "      <td>...</td>\n",
       "      <td>...</td>\n",
       "      <td>...</td>\n",
       "      <td>...</td>\n",
       "      <td>...</td>\n",
       "      <td>...</td>\n",
       "      <td>...</td>\n",
       "      <td>...</td>\n",
       "      <td>...</td>\n",
       "      <td>...</td>\n",
       "      <td>...</td>\n",
       "    </tr>\n",
       "    <tr>\n",
       "      <th>2022-04</th>\n",
       "      <td>109.20</td>\n",
       "      <td>106.42</td>\n",
       "      <td>107.75</td>\n",
       "      <td>107.50</td>\n",
       "      <td>108.54</td>\n",
       "      <td>108.14</td>\n",
       "      <td>108.81</td>\n",
       "      <td>107.86</td>\n",
       "      <td>109.58</td>\n",
       "      <td>108.08</td>\n",
       "      <td>...</td>\n",
       "      <td>107.81</td>\n",
       "      <td>107.28</td>\n",
       "      <td>107.21</td>\n",
       "      <td>108.28</td>\n",
       "      <td>106.94</td>\n",
       "      <td>109.24</td>\n",
       "      <td>108.32</td>\n",
       "      <td>106.63</td>\n",
       "      <td>107.41</td>\n",
       "      <td>106.25</td>\n",
       "    </tr>\n",
       "    <tr>\n",
       "      <th>2022-05</th>\n",
       "      <td>110.27</td>\n",
       "      <td>107.31</td>\n",
       "      <td>108.81</td>\n",
       "      <td>108.37</td>\n",
       "      <td>109.63</td>\n",
       "      <td>109.12</td>\n",
       "      <td>109.53</td>\n",
       "      <td>109.22</td>\n",
       "      <td>110.70</td>\n",
       "      <td>109.18</td>\n",
       "      <td>...</td>\n",
       "      <td>108.64</td>\n",
       "      <td>108.21</td>\n",
       "      <td>108.00</td>\n",
       "      <td>109.24</td>\n",
       "      <td>107.73</td>\n",
       "      <td>110.20</td>\n",
       "      <td>109.09</td>\n",
       "      <td>107.73</td>\n",
       "      <td>108.42</td>\n",
       "      <td>106.94</td>\n",
       "    </tr>\n",
       "    <tr>\n",
       "      <th>2022-06</th>\n",
       "      <td>112.68</td>\n",
       "      <td>109.16</td>\n",
       "      <td>111.06</td>\n",
       "      <td>110.82</td>\n",
       "      <td>112.19</td>\n",
       "      <td>110.98</td>\n",
       "      <td>112.23</td>\n",
       "      <td>111.14</td>\n",
       "      <td>113.14</td>\n",
       "      <td>111.72</td>\n",
       "      <td>...</td>\n",
       "      <td>110.70</td>\n",
       "      <td>110.12</td>\n",
       "      <td>110.03</td>\n",
       "      <td>111.58</td>\n",
       "      <td>109.35</td>\n",
       "      <td>113.05</td>\n",
       "      <td>111.22</td>\n",
       "      <td>109.84</td>\n",
       "      <td>110.59</td>\n",
       "      <td>108.58</td>\n",
       "    </tr>\n",
       "    <tr>\n",
       "      <th>2022-07</th>\n",
       "      <td>112.18</td>\n",
       "      <td>109.34</td>\n",
       "      <td>111.10</td>\n",
       "      <td>110.11</td>\n",
       "      <td>111.90</td>\n",
       "      <td>110.69</td>\n",
       "      <td>111.58</td>\n",
       "      <td>110.52</td>\n",
       "      <td>112.91</td>\n",
       "      <td>111.76</td>\n",
       "      <td>...</td>\n",
       "      <td>109.97</td>\n",
       "      <td>109.86</td>\n",
       "      <td>109.93</td>\n",
       "      <td>111.10</td>\n",
       "      <td>108.87</td>\n",
       "      <td>112.59</td>\n",
       "      <td>110.47</td>\n",
       "      <td>109.76</td>\n",
       "      <td>110.16</td>\n",
       "      <td>109.03</td>\n",
       "    </tr>\n",
       "    <tr>\n",
       "      <th>2022-08</th>\n",
       "      <td>111.83</td>\n",
       "      <td>109.98</td>\n",
       "      <td>111.05</td>\n",
       "      <td>110.24</td>\n",
       "      <td>111.77</td>\n",
       "      <td>111.05</td>\n",
       "      <td>111.49</td>\n",
       "      <td>110.92</td>\n",
       "      <td>112.85</td>\n",
       "      <td>111.88</td>\n",
       "      <td>...</td>\n",
       "      <td>110.42</td>\n",
       "      <td>110.39</td>\n",
       "      <td>110.18</td>\n",
       "      <td>111.33</td>\n",
       "      <td>109.10</td>\n",
       "      <td>112.16</td>\n",
       "      <td>110.65</td>\n",
       "      <td>110.52</td>\n",
       "      <td>110.30</td>\n",
       "      <td>109.85</td>\n",
       "    </tr>\n",
       "  </tbody>\n",
       "</table>\n",
       "<p>248 rows × 52 columns</p>\n",
       "</div>"
      ],
      "text/plain": [
       "          ES423   ES212   ES512   ES614   ES424   ES615   ES241   ES616  \\\n",
       "2002-01   70.73   69.23   67.17   70.56   70.88   70.46   69.74   70.99   \n",
       "2002-02   70.81   69.18   67.25   70.66   70.64   70.54   69.67   71.09   \n",
       "2002-03   71.34   69.60   67.75   71.19   71.22   71.35   70.18   71.68   \n",
       "2002-04   72.12   70.60   68.78   72.43   72.10   72.48   71.00   72.38   \n",
       "2002-05   72.65   70.79   68.95   72.53   72.49   72.67   71.18   73.40   \n",
       "...         ...     ...     ...     ...     ...     ...     ...     ...   \n",
       "2022-04  109.20  106.42  107.75  107.50  108.54  108.14  108.81  107.86   \n",
       "2022-05  110.27  107.31  108.81  108.37  109.63  109.12  109.53  109.22   \n",
       "2022-06  112.68  109.16  111.06  110.82  112.19  110.98  112.23  111.14   \n",
       "2022-07  112.18  109.34  111.10  110.11  111.90  110.69  111.58  110.52   \n",
       "2022-08  111.83  109.98  111.05  110.24  111.77  111.05  111.49  110.92   \n",
       "\n",
       "          ES413   ES513  ...   ES432   ES612   ES130   ES522   ES630   ES422  \\\n",
       "2002-01   68.59   67.21  ...   71.48   71.73   69.50   70.44   73.04   69.79   \n",
       "2002-02   68.65   67.37  ...   71.59   71.56   69.50   70.55   73.13   69.75   \n",
       "2002-03   69.14   68.38  ...   72.13   72.09   70.07   70.99   73.90   70.30   \n",
       "2002-04   70.22   69.22  ...   73.12   73.10   71.07   72.28   74.80   71.58   \n",
       "2002-05   70.47   69.47  ...   73.30   73.39   71.20   72.73   75.30   71.70   \n",
       "...         ...     ...  ...     ...     ...     ...     ...     ...     ...   \n",
       "2022-04  109.58  108.08  ...  107.81  107.28  107.21  108.28  106.94  109.24   \n",
       "2022-05  110.70  109.18  ...  108.64  108.21  108.00  109.24  107.73  110.20   \n",
       "2022-06  113.14  111.72  ...  110.70  110.12  110.03  111.58  109.35  113.05   \n",
       "2022-07  112.91  111.76  ...  109.97  109.86  109.93  111.10  108.87  112.59   \n",
       "2022-08  112.85  111.88  ...  110.42  110.39  110.18  111.33  109.10  112.16   \n",
       "\n",
       "          ES613   ES530   ES111  Las Palmas  \n",
       "2002-01   69.62   69.74   68.55       75.58  \n",
       "2002-02   69.75   69.97   68.84       75.65  \n",
       "2002-03   70.31   70.48   69.42       76.17  \n",
       "2002-04   71.64   71.21   70.31       77.38  \n",
       "2002-05   71.78   71.45   70.62       77.62  \n",
       "...         ...     ...     ...         ...  \n",
       "2022-04  108.32  106.63  107.41      106.25  \n",
       "2022-05  109.09  107.73  108.42      106.94  \n",
       "2022-06  111.22  109.84  110.59      108.58  \n",
       "2022-07  110.47  109.76  110.16      109.03  \n",
       "2022-08  110.65  110.52  110.30      109.85  \n",
       "\n",
       "[248 rows x 52 columns]"
      ]
     },
     "execution_count": 54,
     "metadata": {},
     "output_type": "execute_result"
    }
   ],
   "source": [
    "# tamízalo o ciérnelo para las granulometrías, (qué raros son los estadísticos).\n",
    "dime = indicator.get_data(geo='P')\n",
    "# lo enchufas al marco de datos\n",
    "df= dime.as_dataframe()\n",
    "df"
   ]
  },
  {
   "cell_type": "markdown",
   "metadata": {},
   "source": [
    "### ¿Qué etiqueta tienen las provincias canarias?"
   ]
  },
  {
   "cell_type": "code",
   "execution_count": 55,
   "metadata": {},
   "outputs": [
    {
     "data": {
      "text/plain": [
       "Index(['ES423', 'ES212', 'ES512', 'ES614', 'ES424', 'ES615', 'ES241', 'ES616',\n",
       "       'ES413', 'ES513', 'ES112', 'ES300', 'ES617', 'ES640', 'ES620', 'ES220',\n",
       "       'ES113', 'ES414', 'ES114', 'ES415', 'Santa Cruz de Tenerife', 'ES416',\n",
       "       'ES230', 'ES618', 'ES417', 'ES514', 'ES242', 'ES425', 'ES418', 'ES419',\n",
       "       'ES243', 'ES523', 'ES421', 'ES521', 'ES611', 'ES211', 'ES120', 'ES411',\n",
       "       'ES431', 'ES511', 'ES213', 'ES412', 'ES432', 'ES612', 'ES130', 'ES522',\n",
       "       'ES630', 'ES422', 'ES613', 'ES530', 'ES111', 'Las Palmas'],\n",
       "      dtype='object')"
      ]
     },
     "execution_count": 55,
     "metadata": {},
     "output_type": "execute_result"
    }
   ],
   "source": [
    "df.columns\n",
    "# cada provincia de España tiene un indicador, entre ellos, los del ISTAC han dado nombre a las dos provincias canarias"
   ]
  },
  {
   "cell_type": "markdown",
   "metadata": {},
   "source": [
    "### Marco con sólo las provincias canarias"
   ]
  },
  {
   "cell_type": "code",
   "execution_count": 56,
   "metadata": {},
   "outputs": [],
   "source": [
    "df_provincias_canarias = df[['Santa Cruz de Tenerife', 'Las Palmas']]"
   ]
  },
  {
   "cell_type": "code",
   "execution_count": 57,
   "metadata": {},
   "outputs": [
    {
     "data": {
      "text/plain": [
       "pandas.core.frame.DataFrame"
      ]
     },
     "execution_count": 57,
     "metadata": {},
     "output_type": "execute_result"
    }
   ],
   "source": [
    "# Enséñame la patita de tus tipos\n",
    "type(df_provincias_canarias)"
   ]
  },
  {
   "cell_type": "markdown",
   "metadata": {},
   "source": [
    "### Inflación en España"
   ]
  },
  {
   "cell_type": "code",
   "execution_count": null,
   "metadata": {},
   "outputs": [
    {
     "data": {
      "text/html": [
       "<div>\n",
       "<style scoped>\n",
       "    .dataframe tbody tr th:only-of-type {\n",
       "        vertical-align: middle;\n",
       "    }\n",
       "\n",
       "    .dataframe tbody tr th {\n",
       "        vertical-align: top;\n",
       "    }\n",
       "\n",
       "    .dataframe thead th {\n",
       "        text-align: right;\n",
       "    }\n",
       "</style>\n",
       "<table border=\"1\" class=\"dataframe\">\n",
       "  <thead>\n",
       "    <tr style=\"text-align: right;\">\n",
       "      <th></th>\n",
       "      <th>ES</th>\n",
       "    </tr>\n",
       "  </thead>\n",
       "  <tbody>\n",
       "    <tr>\n",
       "      <th>2002-01</th>\n",
       "      <td>69.53</td>\n",
       "    </tr>\n",
       "    <tr>\n",
       "      <th>2002-02</th>\n",
       "      <td>69.59</td>\n",
       "    </tr>\n",
       "    <tr>\n",
       "      <th>2002-03</th>\n",
       "      <td>70.17</td>\n",
       "    </tr>\n",
       "    <tr>\n",
       "      <th>2002-04</th>\n",
       "      <td>71.12</td>\n",
       "    </tr>\n",
       "    <tr>\n",
       "      <th>2002-05</th>\n",
       "      <td>71.37</td>\n",
       "    </tr>\n",
       "    <tr>\n",
       "      <th>...</th>\n",
       "      <td>...</td>\n",
       "    </tr>\n",
       "    <tr>\n",
       "      <th>2022-04</th>\n",
       "      <td>107.38</td>\n",
       "    </tr>\n",
       "    <tr>\n",
       "      <th>2022-05</th>\n",
       "      <td>108.26</td>\n",
       "    </tr>\n",
       "    <tr>\n",
       "      <th>2022-06</th>\n",
       "      <td>110.27</td>\n",
       "    </tr>\n",
       "    <tr>\n",
       "      <th>2022-07</th>\n",
       "      <td>109.99</td>\n",
       "    </tr>\n",
       "    <tr>\n",
       "      <th>2022-08</th>\n",
       "      <td>110.27</td>\n",
       "    </tr>\n",
       "  </tbody>\n",
       "</table>\n",
       "<p>248 rows × 1 columns</p>\n",
       "</div>"
      ],
      "text/plain": [
       "             ES\n",
       "2002-01   69.53\n",
       "2002-02   69.59\n",
       "2002-03   70.17\n",
       "2002-04   71.12\n",
       "2002-05   71.37\n",
       "...         ...\n",
       "2022-04  107.38\n",
       "2022-05  108.26\n",
       "2022-06  110.27\n",
       "2022-07  109.99\n",
       "2022-08  110.27\n",
       "\n",
       "[248 rows x 1 columns]"
      ]
     },
     "execution_count": 28,
     "metadata": {},
     "output_type": "execute_result"
    }
   ],
   "source": [
    "# Ciérnes\n",
    "dime = indicator.get_data(geo='T')\n",
    "# Derívalo al marco de datos\n",
    "df_españa = dime.as_dataframe()\n",
    "# Míralo\n",
    "df_españa"
   ]
  },
  {
   "cell_type": "code",
   "execution_count": null,
   "metadata": {},
   "outputs": [
    {
     "data": {
      "text/plain": [
       "ES    float64\n",
       "dtype: object"
      ]
     },
     "execution_count": 29,
     "metadata": {},
     "output_type": "execute_result"
    }
   ],
   "source": [
    "# enséñame la patita\n",
    "df_españa.dtypes"
   ]
  },
  {
   "cell_type": "markdown",
   "metadata": {},
   "source": [
    "### Concatenamos los dos marcos para que quede bonito"
   ]
  },
  {
   "cell_type": "code",
   "execution_count": 66,
   "metadata": {},
   "outputs": [
    {
     "data": {
      "text/html": [
       "<div>\n",
       "<style scoped>\n",
       "    .dataframe tbody tr th:only-of-type {\n",
       "        vertical-align: middle;\n",
       "    }\n",
       "\n",
       "    .dataframe tbody tr th {\n",
       "        vertical-align: top;\n",
       "    }\n",
       "\n",
       "    .dataframe thead th {\n",
       "        text-align: right;\n",
       "    }\n",
       "</style>\n",
       "<table border=\"1\" class=\"dataframe\">\n",
       "  <thead>\n",
       "    <tr style=\"text-align: right;\">\n",
       "      <th></th>\n",
       "      <th>ES</th>\n",
       "      <th>Santa Cruz de Tenerife</th>\n",
       "      <th>Las Palmas</th>\n",
       "    </tr>\n",
       "  </thead>\n",
       "  <tbody>\n",
       "    <tr>\n",
       "      <th>2002-01</th>\n",
       "      <td>69.53</td>\n",
       "      <td>75.06</td>\n",
       "      <td>75.58</td>\n",
       "    </tr>\n",
       "    <tr>\n",
       "      <th>2002-02</th>\n",
       "      <td>69.59</td>\n",
       "      <td>75.07</td>\n",
       "      <td>75.65</td>\n",
       "    </tr>\n",
       "    <tr>\n",
       "      <th>2002-03</th>\n",
       "      <td>70.17</td>\n",
       "      <td>75.56</td>\n",
       "      <td>76.17</td>\n",
       "    </tr>\n",
       "    <tr>\n",
       "      <th>2002-04</th>\n",
       "      <td>71.12</td>\n",
       "      <td>76.07</td>\n",
       "      <td>77.38</td>\n",
       "    </tr>\n",
       "    <tr>\n",
       "      <th>2002-05</th>\n",
       "      <td>71.37</td>\n",
       "      <td>76.39</td>\n",
       "      <td>77.62</td>\n",
       "    </tr>\n",
       "    <tr>\n",
       "      <th>...</th>\n",
       "      <td>...</td>\n",
       "      <td>...</td>\n",
       "      <td>...</td>\n",
       "    </tr>\n",
       "    <tr>\n",
       "      <th>2022-04</th>\n",
       "      <td>107.38</td>\n",
       "      <td>106.16</td>\n",
       "      <td>106.25</td>\n",
       "    </tr>\n",
       "    <tr>\n",
       "      <th>2022-05</th>\n",
       "      <td>108.26</td>\n",
       "      <td>106.79</td>\n",
       "      <td>106.94</td>\n",
       "    </tr>\n",
       "    <tr>\n",
       "      <th>2022-06</th>\n",
       "      <td>110.27</td>\n",
       "      <td>108.27</td>\n",
       "      <td>108.58</td>\n",
       "    </tr>\n",
       "    <tr>\n",
       "      <th>2022-07</th>\n",
       "      <td>109.99</td>\n",
       "      <td>108.11</td>\n",
       "      <td>109.03</td>\n",
       "    </tr>\n",
       "    <tr>\n",
       "      <th>2022-08</th>\n",
       "      <td>110.27</td>\n",
       "      <td>108.66</td>\n",
       "      <td>109.85</td>\n",
       "    </tr>\n",
       "  </tbody>\n",
       "</table>\n",
       "<p>248 rows × 3 columns</p>\n",
       "</div>"
      ],
      "text/plain": [
       "             ES  Santa Cruz de Tenerife  Las Palmas\n",
       "2002-01   69.53                   75.06       75.58\n",
       "2002-02   69.59                   75.07       75.65\n",
       "2002-03   70.17                   75.56       76.17\n",
       "2002-04   71.12                   76.07       77.38\n",
       "2002-05   71.37                   76.39       77.62\n",
       "...         ...                     ...         ...\n",
       "2022-04  107.38                  106.16      106.25\n",
       "2022-05  108.26                  106.79      106.94\n",
       "2022-06  110.27                  108.27      108.58\n",
       "2022-07  109.99                  108.11      109.03\n",
       "2022-08  110.27                  108.66      109.85\n",
       "\n",
       "[248 rows x 3 columns]"
      ]
     },
     "execution_count": 66,
     "metadata": {},
     "output_type": "execute_result"
    }
   ],
   "source": [
    "df_comparador = pd.concat([df_españa, df_provincias_canarias], axis=1)\n",
    "df_comparador"
   ]
  },
  {
   "cell_type": "code",
   "execution_count": 65,
   "metadata": {},
   "outputs": [
    {
     "data": {
      "text/plain": [
       "Index(['2002-01', '2002-02', '2002-03', '2002-04', '2002-05', '2002-06',\n",
       "       '2002-07', '2002-08', '2002-09', '2002-10',\n",
       "       ...\n",
       "       '2021-11', '2021-12', '2022-01', '2022-02', '2022-03', '2022-04',\n",
       "       '2022-05', '2022-06', '2022-07', '2022-08'],\n",
       "      dtype='object', length=248)"
      ]
     },
     "execution_count": 65,
     "metadata": {},
     "output_type": "execute_result"
    }
   ],
   "source": [
    "# un vistazo al eje de las x\n",
    "df_comparador.index"
   ]
  },
  {
   "cell_type": "markdown",
   "metadata": {},
   "source": [
    "### Gráfico, (Qué mal rollito a partir del año 2021)"
   ]
  },
  {
   "cell_type": "code",
   "execution_count": 102,
   "metadata": {},
   "outputs": [
    {
     "data": {
      "image/png": "[encoded data removed]",
      "text/plain": [
       "<Figure size 1000x600 with 1 Axes>"
      ]
     },
     "metadata": {
      "needs_background": "light"
     },
     "output_type": "display_data"
    }
   ],
   "source": [
    "import matplotlib.pyplot as plt\n",
    "\n",
    "x = df_comparador.index\n",
    "y = df_comparador['ES']\n",
    "z = df_comparador['Santa Cruz de Tenerife']\n",
    "j = df_comparador['Las Palmas']\n",
    "\n",
    "plt.figure(figsize=(10,6), dpi=100)\n",
    "plt.plot(x, y, color='red', label='España')\n",
    "plt.plot(x, z, color='blue', label= 'Santa Cruz de Tenerife')\n",
    "plt.plot(x, j, color='green', label= 'Las Palmas')\n",
    "plt.legend(loc=\"upper left\")\n",
    "plt.title('Índice de precios de consumo (IPC). General.')\n",
    "# Las espinas son la parte más dificil de gráfico, \n",
    "plt.xticks(range(0,259,12), range(2002,2024), rotation ='vertical')\n",
    "plt.grid()\n",
    "plt.show()"
   ]
  }
 ],
 "metadata": {
  "kernelspec": {
   "display_name": "Python 3.8.10 64-bit",
   "language": "python",
   "name": "python3"
  },
  "language_info": {
   "codemirror_mode": {
    "name": "ipython",
    "version": 3
   },
   "file_extension": ".py",
   "mimetype": "text/x-python",
   "name": "python",
   "nbconvert_exporter": "python",
   "pygments_lexer": "ipython3",
   "version": "3.8.10"
  },
  "orig_nbformat": 4,
  "vscode": {
   "interpreter": {
    "hash": "916dbcbb3f70747c44a77c7bcd40155683ae19c65e1c03b4aa3499c5328201f1"
   }
  }
 },
 "nbformat": 4,
 "nbformat_minor": 2
}
